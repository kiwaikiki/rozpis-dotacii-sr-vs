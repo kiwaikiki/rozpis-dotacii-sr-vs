{
 "cells": [
  {
   "cell_type": "code",
   "execution_count": null,
   "metadata": {},
   "outputs": [],
   "source": [
    "%pip install pandas\n",
    "%pip install openpyxl\n",
    "%pip install scipy\n",
    "import pandas as pd\n",
    "import numpy as np\n",
    "\n",
    "data_source = 'local'\n",
    "\n",
    "prilohy_path = {\n",
    "    'A': '../data/prilohaA-napocet.xlsx',\n",
    "    'B': '../data/prilohaB-crepc.xlsx',\n",
    "    'C': '../data/prilohaC-monografie.xlsx',\n",
    "    'D': '../data/prilohaD-granty.xlsx',\n",
    "    'publ': '../data/publikacna_cinnost.xlsx'\n",
    "} if data_source == 'local' else {\n",
    "    'A': 'https://www.minedu.sk/data/att/25844.xlsx',\n",
    "    'B': 'https://www.minedu.sk/data/att/25563.xlsx',\n",
    "    'C': 'https://www.minedu.sk/data/att/25537.xlsx',\n",
    "    'D': 'https://www.minedu.sk/data/att/25538.xlsx',\n",
    "    'publ': 'https://www.minedu.sk/data/att/24957.xlsx'\n",
    "}\n",
    "\n",
    "prilohaA = pd.read_excel(prilohy_path['A'], sheet_name = None, header=None)\n",
    "print(prilohaA.keys())\n",
    "# ['E1_alokácia', 'E2_zamestnanci_2021', 'E3_oblasti', 'E4a_M1_prirodne', 'E4b_M2_technicke', 'E4c_M3_lekarske', 'E4d_M4_polno_les_vet', 'E4e_M5_spolocenske', 'E4f_M6_humanitne', 'E4g_M6_umenie']\n",
    "prilohaB = pd.read_excel(prilohy_path['B'], sheet_name = None)\n",
    "print(prilohaB.keys())\n",
    "# ['2021 - 3']\n",
    "prilohaC = pd.read_excel(prilohy_path['C'], sheet_name = None)\n",
    "print(prilohaC.keys())\n",
    "# ['crepc 2020', 'crepc 2021', 'crepc 2022', 'crepc 2022-2', 'CVTI_NORDIC', 'Nordic_CVTI 2020', 'Nordic_CVTI 2021', 'vystupy 2020', 'vystupy 2021', 'Hárok1']\n",
    "prilohaD = pd.read_excel(prilohy_path['D'], sheet_name = None)\n",
    "print(prilohaD.keys())\n",
    "# ['T3 - výsk. zahr. grant. schémy', 'old', 'oblasti výskumu', 'VŠ', 'Odbory VaT']\n",
    "prilohaPUBL = pd.read_excel(prilohy_path['publ'], sheet_name = None, header=None)\n",
    "print(prilohaPUBL.keys())\n",
    "# ['vs_podiel', 'jednotkove', 'kalkuljednotkove', 'distribucia', 'data', 'sucasti', 'zoznamvs', 'kategoriaskupiny', 'vahymnozin', 'mnoziny', 'Patenty', 'rozpis07712', 'rozpis07711']\n"
   ]
  },
  {
   "cell_type": "code",
   "execution_count": null,
   "metadata": {},
   "outputs": [],
   "source": [
    "oblasti_mapping_sheet = prilohaA['E3_oblasti'].copy()\n",
    "\n",
    "dictionary1 = oblasti_mapping_sheet.set_index(0)[2].to_dict()\n",
    "dictionary2 = oblasti_mapping_sheet.set_index(1)[2].to_dict()\n",
    "dictionary3 = {key: value for key, value in zip([\n",
    "'PRÍRODNÉ VEDY',\n",
    "'TECHNICKÉ VEDY', \n",
    "'LEKÁRSKE VEDY',\n",
    "'PÔDOHOSPODÁRSKE VEDY',\n",
    "'SPOLOČENSKÉ VEDY',\n",
    "'HUMANITNÉ VEDY',\n",
    "], [f'M{i}' for i in range(1,7)])}\n",
    "\n",
    "oblasti_mapping = {**dictionary1, **dictionary2, **dictionary3}\n",
    "oblasti_mapping"
   ]
  },
  {
   "cell_type": "code",
   "execution_count": null,
   "metadata": {},
   "outputs": [],
   "source": [
    "vs_skratky = pd.read_csv('../data/vs_skratky.csv', index_col=0)\n",
    "vs_skratky2cely_nazov = vs_skratky.reset_index().drop(columns=['cislo']).set_index('skratka_mesto')['VS_NAZOV'].to_dict()\n",
    "vs_skratky2cely_nazov"
   ]
  },
  {
   "attachments": {},
   "cell_type": "markdown",
   "metadata": {},
   "source": [
    "a) excelentná publikačná činnosť podľa bodu 4, celková váha 60%.\n",
    "\n",
    "a) V oblastiach **M1**: prírodné vedy, **M2**: technické vedy, **M3**: lekárske vedy, **M4**: poľnohospodárske, lesnícke a veterinárske vedy sa zohľadňujú **váhou 100%** indexované publikácie (WoS, Scopus), teda kategórie **ADC, ADD, ADM, ADN**. Zoznam sa nachádza **v prílohe B**. Všetky výstupy sa **váhujú** podľa pracovísk tak, aby každý výstup bol zarátaný iba raz (súčet všetkých váh za daný **výstup je 1,00**).\n",
    "\n",
    "b) V oblasti **M5**: spoločenské vedy sa zohľadňujú **váhou 75%** indexované publikácie **(WoS, Scopus)**, teda kategórie **ADC, ADD, ADM, ADN**. Tieto výstupy sa bonifikujú v súlade s metodikou rozpisu **(prvý kvartil JCR je zohľadnený váhou 6, druhý kvartil váhou 4, tretí kvartil váhou 1 a štvrtý kvartil váhou 0,5)**. Zoznam sa nachádza **v prílohe B**. **Váhou 25%** sa zohľadňujú monografie (**AAA, AAB**). Tieto výstupy sa **bonifikujú** tak, že vydavateľstvá zaradené v databáze Nordic List (https://kanalregister.hkdir.no/publiseringskanaler/Forside.action?request_locale=en) v kategórii 2 (prestížne vedecké vydavateľstvo) sú bonifikované váhou 6, vydavateľstvá zaradené v databáze Nordic List v kategórii 1 (vedecké vydavateľstvo) váhou 4, vydavateľstvá zaradené v databáze CVTI (zoznam zahraničných vydavateľstiev: http://cms.crepc.sk/Data/Sites/1/pdf/zoznam-vydavatelstva/zoznam-vydavatelstva-01-2020.pdf) sú zohľadnené váhou 1 a všetky ostatné monografie sú zohľadnené váhou 0,5). Zoznam aj so zaradením sa nachádza v prílohe C. Všetky výstupy sa váhujú podľa pracovísk tak, aby každý výstup bol zarátaný iba raz (súčet všetkých váh za daný výstup je 1,00).\n",
    "\n",
    "c) V oblasti M6a: humanitné vedy sa zohľadňujú váhou 60% indexované publikácie (WoS, Scopus), teda kategórie ADC, ADD, ADM, ADN. Tieto výstupy sa bonifikujú v súlade s metodikou rozpisu (prvý kvartil JCR je zohľadnený váhou 6, druhý kvartil váhou 4, tretí kvartil váhou 1 a štvrtý kvartil váhou 0,5). Zoznam sa nachádza v prílohe B. Váhou 40% sa zohľadňujú monografie (AAA, AAB). Tieto výstupy sa bonifikujú tak, že vydavateľstvá zaradené v databáze Nordic List (https://kanalregister.hkdir.no/publiseringskanaler/Forside.action?request_locale=en) v kategórii 2 (prestížne vedecké vydavateľstvo) sú bonifikované váhou 6, vydavateľstvá zaradené v databáze Nordic List v kategórii 1 (vedecké vydavateľstvo) váhou 4, vydavateľstvá zaradené v databáze CVTI (zoznam zahraničných vydavateľstiev: http://cms.crepc.sk/Data/Sites/1/pdf/zoznam-vydavatelstva/zoznam-vydavatelstva-01-2020.pdf) sú zohľadnené váhou 1 a všetky ostatné monografie sú zohľadnené váhou 0,5). Zoznam aj so zaradením sa nachádza v prílohe C. Všetky výstupy sa váhujú podľa pracovísk tak, aby každý výstup bol zarátaný iba raz (súčet všetkých váh za daný výstup je 1,00).\n",
    "\n",
    "d) v oblasti M6b umenie sa zohľadňujú váhou 100% umelecké výstupy v kategóriách ZZZ, ZZY, ZYZ, ZYY podľa váh platných pre rozpis dotácie 2022. Údaje sa nachádzajú v rozpise dotácie na rok 2022, hárok E4g_M6_umenie. Osobitne sa zohľadňujú oblasti performatívne umenie a vizuálne umenie."
   ]
  },
  {
   "cell_type": "code",
   "execution_count": null,
   "metadata": {},
   "outputs": [],
   "source": [
    "casovy_ramec = [2020, 2021]\n",
    "\n",
    "# prilohy B, C\n",
    "epc_codes_ADx = ['ADC', 'ADD', 'ADM', 'ADN']\n",
    "epc_codes_AAx = ['AAA', 'AAB']\n",
    "epc_codes_Zxx = ['ZZZ', 'ZZY', 'ZYZ', 'ZYY']\n",
    "\n",
    "epc_codes_M1_M4 = epc_codes_ADx\n",
    "epc_codes_M5 = epc_codes_ADx + epc_codes_AAx # TODO bonifikacia\n",
    "epc_codes_M6a = epc_codes_ADx + epc_codes_AAx # TODO bonifikacia\n",
    "epc_codes_M6b = epc_codes_Zxx # E4g_M6_umenie\n",
    "\n",
    "publikacie_ADx = prilohaB['2021 - 3'].copy()\n",
    "assert publikacie_ADx['EPC_KOD'].isin(epc_codes_ADx).all()\n",
    "\n",
    "publikacie_AAx_2020 = prilohaC['vystupy 2020'].copy()\n",
    "assert publikacie_AAx_2020['EPC_KOD'].isin(epc_codes_AAx).all()\n",
    "\n",
    "publikacie_AAx_2021 = prilohaC['vystupy 2021'].copy()\n",
    "assert publikacie_AAx_2021['EPC_KOD'].isin(epc_codes_AAx).all()\n",
    "\n",
    "publikacie_AAx = pd.concat([publikacie_AAx_2020, publikacie_AAx_2021])\n",
    "\n",
    "publikacie_vsetky = prilohaPUBL['data'].copy()\n",
    "publikacie_vsetky.columns = publikacie_vsetky.iloc[2]\n",
    "publikacie_vsetky = publikacie_vsetky.iloc[3:].reset_index()\n",
    "publikacie_vsetky = publikacie_vsetky[publikacie_vsetky['ROK'].isin(casovy_ramec)]\n",
    "\n",
    "publikacie_ADx_v2 = publikacie_vsetky[publikacie_vsetky['EPC_KOD'].isin(epc_codes_ADx)]\n",
    "publikacie_AAx_v2 = publikacie_vsetky[publikacie_vsetky['EPC_KOD'].isin(epc_codes_AAx)]\n",
    "\n",
    "vysledne_pocty_fakult_v_oblastiach = {\n",
    "    'M1': 24,\n",
    "    'M2': 40,\n",
    "    'M3': 11,\n",
    "    'M4': 10,   \n",
    "    'M5': 70,\n",
    "    'M6': 47,\n",
    "}"
   ]
  },
  {
   "cell_type": "code",
   "execution_count": null,
   "metadata": {},
   "outputs": [],
   "source": [
    "def melt_sheet(sheet, relevant_columns, melt_columns, output_column):\n",
    "    return (\n",
    "        sheet.loc[:, relevant_columns + melt_columns]\n",
    "            .melt(id_vars=relevant_columns, value_name=output_column)\n",
    "            .drop(columns = ['variable'])\n",
    "            .dropna(subset = [output_column])\n",
    "    )"
   ]
  },
  {
   "cell_type": "code",
   "execution_count": null,
   "metadata": {},
   "outputs": [],
   "source": [
    "stlpce = ['VS_NAZOV', 'FAKULTA_NAZOV',  'PODIEL', 'JCR_bonus', 'ID v CREPC']\n",
    "melt_stlpce = [f\"OBLAST_VYSKUMU_KOD{i}\" for i in [\"\", 2, 3, 4, 5]]\n",
    "\n",
    "publikacie_ADx_melted = melt_sheet(publikacie_ADx, stlpce, melt_stlpce, 'oblast_kod')\n",
    "publikacie_ADx_melted['oblast'] = publikacie_ADx_melted['oblast_kod'].map(oblasti_mapping)\n",
    "publikacie_ADx_melted['PODIEL'] = publikacie_ADx_melted['PODIEL'] / 100\n",
    "publikacie_ADx_melted.rename(columns={'ID v CREPC' : 'ID_V_CREPC'}, inplace=True)\n",
    "\n",
    "display(publikacie_ADx_melted.query('ID_V_CREPC == 133480'))\n",
    "sum_podielov = publikacie_ADx_melted.groupby('ID_V_CREPC').sum()['PODIEL'].to_dict()\n",
    "# publikacie_ADx_melted['PODIEL'] = publikacie_ADx_melted['PODIEL'] / publikacie_ADx_melted['ID_V_CREPC'].map(sum_podielov)  \n",
    "display(publikacie_ADx_melted.query('ID_V_CREPC == 133480'))\n",
    "publikacie_ADx_melted"
   ]
  },
  {
   "cell_type": "code",
   "execution_count": null,
   "metadata": {},
   "outputs": [],
   "source": [
    "index_columns = ['VS_NAZOV', 'FAKULTA_NAZOV']\n",
    "\n",
    "def sumup_groupby(sheet, groupby_columns, data_column, output_column):\n",
    "    sumup_column = data_column + '_zaokruhlene'\n",
    "    sheet[sumup_column] = (sheet[data_column] * 2).apply(np.ceil)\n",
    "    return (\n",
    "        sheet\n",
    "        .groupby(groupby_columns, dropna = False)[sumup_column]\n",
    "        .sum()\n",
    "        .rename(output_column)\n",
    "    )\n",
    "\n",
    "# {\n",
    "#     oblast: publikacie_ADx_melted[publikacie_ADx_melted['oblast'] == oblast]\n",
    "#         .loc[:, index_columns]\n",
    "#         .drop_duplicates()\n",
    "#         .set_index(index_columns)\n",
    "#     for oblast in set(oblasti_mapping.values())\n",
    "# }"
   ]
  },
  {
   "cell_type": "code",
   "execution_count": null,
   "metadata": {},
   "outputs": [],
   "source": [
    "publikacie_ADx_melted['vahaxJCR'] = publikacie_ADx_melted['PODIEL'] * publikacie_ADx_melted['JCR_bonus']\n",
    "publikacie_ADx_sum = sumup_groupby(publikacie_ADx_melted, ['oblast'] + index_columns, 'vahaxJCR', 'sum_ADx')\n",
    "publikacie_ADx_sum.sort_values(ascending=False)"
   ]
  },
  {
   "cell_type": "code",
   "execution_count": null,
   "metadata": {},
   "outputs": [],
   "source": [
    "stlpce = ['VS_NAZOV', 'FAKULTA_NAZOV', 'kategoria_metodika']\n",
    "melt_stlpce = [f\"OBLAST_VYSKUMU_KOD{i}\" for i in [\"\", 2]]\n",
    "publikacie_AAx_melted = melt_sheet(publikacie_AAx, stlpce, melt_stlpce, 'oblast_kod')\n",
    "publikacie_AAx_melted['oblast'] = publikacie_AAx_melted['oblast_kod'].map(oblasti_mapping)\n"
   ]
  },
  {
   "cell_type": "code",
   "execution_count": null,
   "metadata": {},
   "outputs": [],
   "source": [
    "publikacie_AAx_sum = sumup_groupby(publikacie_AAx_melted, ['oblast'] + index_columns, 'kategoria_metodika', 'sum_AAx')\n",
    "publikacie_AAx_sum.sort_values(ascending=False)"
   ]
  },
  {
   "attachments": {},
   "cell_type": "markdown",
   "metadata": {},
   "source": [
    "5. Excelentný výkon pri získavaní výskumných grantov sa určuje nasledovne: pre všetky oblasti okrem M6b (umenie) sa zohľadňuje objem grantových prostriedkov, získaných súťažným spôsobom v kategórii zahraničné výskumné granty. Zoznam sa nachádza v prílohe D. Zahraničné výskumné granty sa priraďujú iba tým pracoviskám, v ktorých vysoké školy uviedli príslušných zamestnancov v danej oblasti.\n",
    "\n"
   ]
  },
  {
   "cell_type": "code",
   "execution_count": null,
   "metadata": {},
   "outputs": [],
   "source": [
    "granty_orig = prilohaD['T3 - výsk. zahr. grant. schémy'].copy()\n",
    "# granty_orig = granty_orig[granty_orig['Rok'].isin(casovy_ramec)]\n",
    "\n",
    "vyhra_key = '''Výška finančných prostriedkov v kategórii BV prijatých vysokou školou na jej účet v období od 1.1. do 31.12.2021\n",
    "(uviesť v eurách v celých jednotkách)'''\n",
    "granty_orig.rename(columns = {\n",
    "    vyhra_key: 'Výhra',\n",
    "    'Vysoká škola': 'VS_NAZOV',\n",
    "    'Názov fakulty': 'FAKULTA_NAZOV',\n",
    "    'Identifikačné číslo projektu podľa zmluvy': 'ID',\n",
    "    }, inplace = True)\n",
    "\n",
    "relevant_columns = index_columns + ['SKUPINA ODBOROV VEDY A TECHNIKY', 'Rok', 'ID', 'Výhra']\n",
    "granty_orig = granty_orig.loc[:, relevant_columns].dropna(subset = ['Výhra'])\n",
    "granty_orig['FAKULTA_NAZOV'] = granty_orig['FAKULTA_NAZOV'].fillna('<neuvedené>')\n",
    "\n",
    "granty_orig['oblast'] = granty_orig['SKUPINA ODBOROV VEDY A TECHNIKY'].map(oblasti_mapping)\n",
    "granty_orig"
   ]
  },
  {
   "cell_type": "code",
   "execution_count": null,
   "metadata": {},
   "outputs": [],
   "source": [
    "granty_orig.loc[granty_orig['ID'] == 'H2020 739566', 'FAKULTA_NAZOV'] = 'FunGlass - Centrum pre funkčné a povrchovo funkcionalizované sklá'"
   ]
  },
  {
   "cell_type": "code",
   "execution_count": null,
   "metadata": {},
   "outputs": [],
   "source": [
    "pocty_zamestnancov = prilohaA['E2_zamestnanci_2021'].copy()\n",
    "pocty_zamestnancov.columns = pocty_zamestnancov.iloc[0].combine_first(pocty_zamestnancov.iloc[1])\n",
    "pocty_zamestnancov = pocty_zamestnancov[2:]\n",
    "pocty_zamestnancov = (\n",
    "    pocty_zamestnancov[pocty_zamestnancov['kod skoly'].notna()]\n",
    "    .drop(columns=['kod skoly'])\n",
    "    .rename(columns={'FAKULTA_NAZOV / sucasti': 'FAKULTA_NAZOV'})\n",
    "    .set_index(index_columns)\n",
    "    .fillna(0)\n",
    "    .astype(int)\n",
    "    .groupby(oblasti_mapping, axis=1)\n",
    "    .sum()\n",
    ")\n",
    "pocty_zamestnancov"
   ]
  },
  {
   "cell_type": "code",
   "execution_count": null,
   "metadata": {},
   "outputs": [],
   "source": [
    "from collections import defaultdict\n",
    "import string\n",
    "\n",
    "translate_table = str.maketrans('', '', string.punctuation)\n",
    "tokenize = lambda s: set(s.translate(translate_table).lower().split())\n",
    "\n",
    "stare_nazvy = list(set(granty_orig.set_index(['VS_NAZOV', 'FAKULTA_NAZOV']).index))\n",
    "fakulty = defaultdict(lambda: [[], []])\n",
    "\n",
    "for vs, fakulta in stare_nazvy:\n",
    "    vs_nazov = vs_skratky2cely_nazov[vs]\n",
    "    fakulty[vs_nazov][0].append((vs, fakulta))\n",
    "\n",
    "nove_nazvy = list(set(pocty_zamestnancov.index))\n",
    "for vs, fakulta in nove_nazvy:\n",
    "    fakulty[vs][1].append(fakulta)\n",
    "\n",
    "granty2publikacie_naming_mapping = {}\n",
    "for vs_nove in fakulty:\n",
    "    stare, nove = fakulty[vs_nove]\n",
    "    if not nove:\n",
    "        print('UNKNOWN VS', vs_nove, stare)\n",
    "        nove = ['unknown']\n",
    "    for vs_stara, fakulta_stara in stare:\n",
    "        matching_to = fakulta_stara.translate(translate_table).split()\n",
    "        if len(matching_to[-1]) <= 4 and matching_to[-1].isupper():\n",
    "            matching_to.pop()\n",
    "        matching_to = \" \".join(matching_to)\n",
    "\n",
    "        podobnosti = []\n",
    "        for fakulta_nova in nove:\n",
    "            podobnosti.append(len(tokenize(matching_to) & tokenize(fakulta_nova.lower())))\n",
    "        best_i = podobnosti.index(max(podobnosti))\n",
    "        fakulta_nova = nove[best_i]\n",
    "        dlzka1 = len(tokenize(matching_to))\n",
    "        dlzka2 = len(tokenize(nove[best_i]))\n",
    "        if podobnosti[best_i] != dlzka2 and podobnosti[best_i] < dlzka1 * 0.75:\n",
    "            print(fakulta_stara, best_i, dlzka1, dlzka2, podobnosti[best_i], fakulta_nova)\n",
    "            fakulta_nova = f'unknown[{fakulta_stara}]'\n",
    "        granty2publikacie_naming_mapping[(vs_stara, fakulta_stara)] = (vs_nove, fakulta_nova)\n",
    "\n",
    "granty2publikacie_naming_mapping"
   ]
  },
  {
   "cell_type": "code",
   "execution_count": null,
   "metadata": {},
   "outputs": [],
   "source": [
    "granty = granty_orig.copy().set_index(['VS_NAZOV', 'FAKULTA_NAZOV'])\n",
    "granty.index = granty.index.map(granty2publikacie_naming_mapping)\n",
    "granty = granty.reset_index()\n",
    "granty_unknown = granty[granty['FAKULTA_NAZOV'].str.startswith('unknown')].groupby(['VS_NAZOV', 'FAKULTA_NAZOV']).sum('Výhra')\n",
    "total_granty, total_granty_unknown = granty['Výhra'].sum(), granty_unknown['Výhra'].sum()\n",
    "print(f'Total: {total_granty:.0f}€, Unknown: {total_granty_unknown:.0f}€, {total_granty_unknown / total_granty:.1%}')\n",
    "display(granty_unknown.sort_values('Výhra', ascending=False))\n",
    "granty = granty.set_index(['oblast', 'VS_NAZOV', 'FAKULTA_NAZOV'])\n",
    "granty.sort_values('Výhra', ascending=False)"
   ]
  },
  {
   "cell_type": "code",
   "execution_count": null,
   "metadata": {},
   "outputs": [],
   "source": [
    "# # # TODO fakulty_v_oblasti do novej premennej a merge so starou\n",
    "# fakulty_v_oblasti = {\n",
    "#     oblast: granty[granty['oblast'] == oblast]\n",
    "#         .loc[:, index_columns]\n",
    "#         .drop_duplicates()\n",
    "#         .set_index(index_columns)\n",
    "#     for oblast in set(oblasti_mapping.values())\n",
    "# }\n",
    "\n",
    "# for value in fakulty_v_oblasti.values():\n",
    "#     value['sum_granty'] = 0.0\n",
    "\n",
    "# for i, riadok in granty.iterrows():\n",
    "#     pracovisko = tuple(riadok[key] for key in index_columns)\n",
    "#     fakulty_v_oblasti[riadok['oblast']].loc[pracovisko]['sum_granty'] += riadok['Výhra']\n",
    "\n",
    "\n",
    "# fakulty_v_oblasti['M1'].sort_values(by='sum_granty', ascending=False)"
   ]
  },
  {
   "cell_type": "code",
   "execution_count": null,
   "metadata": {},
   "outputs": [],
   "source": [
    "granty_sum = sumup_groupby(granty, ['oblast'] + index_columns, 'Výhra', 'sum_granty')\n",
    "granty_sum.loc['M1'].sort_values(ascending=False)\n",
    "\n",
    "granty_sum = granty_sum.reset_index()\n",
    "granty_sum = granty_sum.set_index(['oblast', 'VS_NAZOV', 'FAKULTA_NAZOV'])['sum_granty']\n",
    "granty_sum"
   ]
  },
  {
   "cell_type": "code",
   "execution_count": null,
   "metadata": {},
   "outputs": [],
   "source": [
    "uni_adx = set(map(lambda x: x[1:], publikacie_ADx_sum.index))\n",
    "uni_aax = set(map(lambda x: x[1:], publikacie_AAx_sum.index))\n",
    "uni_granty = set(map(lambda x: x[1:], granty_sum.index))\n",
    "print(list(map(len, [uni_adx, uni_aax, uni_granty])))\n",
    "print(len(uni_adx & uni_aax))\n",
    "print(len(uni_adx & uni_granty))\n",
    "print(len(uni_aax & uni_granty))\n",
    "print(len((uni_aax | uni_adx) & uni_granty))\n",
    "display(uni_adx | uni_aax)\n",
    "display(uni_granty - uni_adx - uni_aax)"
   ]
  },
  {
   "cell_type": "code",
   "execution_count": null,
   "metadata": {},
   "outputs": [],
   "source": [
    "pracoviska_excelentnost = pd.concat([\n",
    "    publikacie_ADx_sum,\n",
    "    publikacie_AAx_sum,\n",
    "    granty_sum,\n",
    "], axis=1, join='outer')\n",
    "pracoviska_excelentnost.loc[['M1','M2','M3','M4'], 'publikacna_excelentnost'] = pracoviska_excelentnost.loc[['M1','M2','M3','M4']]['sum_ADx']\n",
    "pracoviska_excelentnost.loc[['M5'], 'publikacna_excelentnost'] = pracoviska_excelentnost.loc[['M5']].apply(lambda x: x['sum_ADx'] * 0.75 + x['sum_AAx'] * 0.25, axis=1)\n",
    "pracoviska_excelentnost.loc[['M6'], 'publikacna_excelentnost'] = pracoviska_excelentnost.loc[['M6']].apply(lambda x: x['sum_ADx'] * 0.60 + x['sum_AAx'] * 0.40, axis=1)\n",
    "pracoviska_excelentnost.sort_values(by='publikacna_excelentnost', ascending=False)"
   ]
  },
  {
   "cell_type": "code",
   "execution_count": null,
   "metadata": {},
   "outputs": [],
   "source": [
    "for m in ['M4']: #pocty_zamestnancov.columns:\n",
    "    # print(m)\n",
    "    relevant_high = pocty_zamestnancov[m][pocty_zamestnancov[m] >= 5]\n",
    "    relevant_low = pocty_zamestnancov[m][pocty_zamestnancov[m] >= 1][pocty_zamestnancov[m] < 5]\n",
    "    relevant_zero = pocty_zamestnancov[m][pocty_zamestnancov[m] == 0]\n",
    "    # print(pracoviska_excelentnost.loc[m])\n",
    "    relevant_excelent = pracoviska_excelentnost.loc[m]\n",
    "    relevant_excelent = relevant_excelent[relevant_excelent['sum_ADx'] + relevant_excelent['sum_AAx'] > 0]\n",
    "    # print(relevant)\n",
    "    print(f'm={m}, 0==x={len(relevant_zero)} 0<x<5={len(relevant_low)}, 5<=x={len(relevant_high)}, pub|grant={len(relevant_excelent)}, excel={vysledne_pocty_fakult_v_oblastiach[m]}')\n",
    "    # print(relevant_high)\n",
    "    # print(relevant_excelent)\n",
    "    # print()\n",
    "\n",
    "vysledne_pocty_fakult_v_oblastiach"
   ]
  },
  {
   "cell_type": "code",
   "execution_count": 284,
   "metadata": {},
   "outputs": [
    {
     "name": "stdout",
     "output_type": "stream",
     "text": [
      "M1\n",
      "M2\n",
      "M3\n",
      "M4\n",
      "M5\n",
      "M6\n"
     ]
    }
   ],
   "source": [
    "import subprocess\n",
    "\n",
    "# export grant data to csv\n",
    "# run r script\n",
    "# import resulting csv containing predicted values\n",
    "zamestnanci_publikacie = (\n",
    "    pocty_zamestnancov\n",
    "    .melt(ignore_index=False, var_name='oblast', value_name='pocty_zamestnancov')\n",
    "    .reset_index()\n",
    "    .set_index(['oblast', 'VS_NAZOV', 'FAKULTA_NAZOV'])\n",
    "    .query('pocty_zamestnancov >= 5')\n",
    "    .join(pracoviska_excelentnost[['publikacna_excelentnost', 'sum_granty']])\n",
    "    .fillna(0)\n",
    ")\n",
    "zamestnanci_publikacie['sum_granty'] = zamestnanci_publikacie['sum_granty'] / 2 # TODO\n",
    "for oblast in sorted(set(oblasti_mapping.values())):\n",
    "    print(oblast)\n",
    "    # display(zamestnanci_publikacie.loc[oblast])\n",
    "    data = zamestnanci_publikacie.loc[oblast].reset_index()\n",
    "\n",
    "    data.to_csv(f'../data/data_{oblast}.csv', index=False)\n",
    "\n",
    "    # csv = data.to_csv(index=False)\n",
    "    # subprocess.run(['Rscript', 'predict.r'], stdin=csv)\n",
    "    # predicted = pd.read_csv('predicted.csv')\n",
    "    # pracoviska_excelentnost.loc[[oblast], 'publikacne_predicted'] = predicted"
   ]
  },
  {
   "cell_type": "code",
   "execution_count": 288,
   "metadata": {},
   "outputs": [
    {
     "name": "stderr",
     "output_type": "stream",
     "text": [
      "Loading required package: splines\n",
      "Loading required package: gamlss.data\n",
      "\n",
      "Attaching package: ‘gamlss.data’\n",
      "\n",
      "The following object is masked from ‘package:datasets’:\n",
      "\n",
      "    sleep\n",
      "\n",
      "Loading required package: gamlss.dist\n",
      "Loading required package: MASS\n",
      "Loading required package: nlme\n",
      "Loading required package: parallel\n"
     ]
    },
    {
     "name": "stdout",
     "output_type": "stream",
     "text": [
      "GAMLSS-RS iteration 1: Global Deviance = 349.8703 \n",
      "GAMLSS-RS iteration 2: Global Deviance = 342.2334 \n"
     ]
    },
    {
     "name": "stderr",
     "output_type": "stream",
     "text": [
      " **********   GAMLSS Version 5.4-12  ********** \n",
      "For more on GAMLSS look at https://www.gamlss.com/\n",
      "Type gamlssNews() to see new features/changes/bug fixes.\n",
      "\n",
      "Error in dSICHEL(y, mu, sigma, nu, log = TRUE) : \n",
      "  NA/NaN/Inf in foreign function call (arg 3)\n",
      "Calls: train_model ... eval -> eval -> RS -> glim.fit -> <Anonymous> -> dSICHEL\n",
      "Execution halted\n"
     ]
    },
    {
     "data": {
      "text/plain": [
       "CompletedProcess(args=['Rscript', 'predict.r'], returncode=1)"
      ]
     },
     "execution_count": 288,
     "metadata": {},
     "output_type": "execute_result"
    }
   ],
   "source": [
    "subprocess.run(['Rscript', 'predict.r'])"
   ]
  },
  {
   "cell_type": "code",
   "execution_count": 285,
   "metadata": {},
   "outputs": [
    {
     "name": "stdout",
     "output_type": "stream",
     "text": [
      "M1\n"
     ]
    },
    {
     "ename": "FileNotFoundError",
     "evalue": "[Errno 2] No such file or directory: '../data/predicted_M1.csv'",
     "output_type": "error",
     "traceback": [
      "\u001b[0;31m---------------------------------------------------------------------------\u001b[0m",
      "\u001b[0;31mFileNotFoundError\u001b[0m                         Traceback (most recent call last)",
      "Cell \u001b[0;32mIn[285], line 3\u001b[0m\n\u001b[1;32m      1\u001b[0m \u001b[39mfor\u001b[39;00m oblast \u001b[39min\u001b[39;00m \u001b[39msorted\u001b[39m(\u001b[39mset\u001b[39m(oblasti_mapping\u001b[39m.\u001b[39mvalues())):\n\u001b[1;32m      2\u001b[0m     \u001b[39mprint\u001b[39m(oblast)\n\u001b[0;32m----> 3\u001b[0m     predicted \u001b[39m=\u001b[39m pd\u001b[39m.\u001b[39;49mread_csv(\u001b[39mf\u001b[39;49m\u001b[39m'\u001b[39;49m\u001b[39m../data/predicted_\u001b[39;49m\u001b[39m{\u001b[39;49;00moblast\u001b[39m}\u001b[39;49;00m\u001b[39m.csv\u001b[39;49m\u001b[39m'\u001b[39;49m)\n\u001b[1;32m      4\u001b[0m     display(predicted)\n\u001b[1;32m      5\u001b[0m     \u001b[39m# pracoviska_excelentnost.loc[[oblast], 'publikacne_predicted'] = predicted\u001b[39;00m\n",
      "File \u001b[0;32m/usr/lib/python3.11/site-packages/pandas/util/_decorators.py:211\u001b[0m, in \u001b[0;36mdeprecate_kwarg.<locals>._deprecate_kwarg.<locals>.wrapper\u001b[0;34m(*args, **kwargs)\u001b[0m\n\u001b[1;32m    209\u001b[0m     \u001b[39melse\u001b[39;00m:\n\u001b[1;32m    210\u001b[0m         kwargs[new_arg_name] \u001b[39m=\u001b[39m new_arg_value\n\u001b[0;32m--> 211\u001b[0m \u001b[39mreturn\u001b[39;00m func(\u001b[39m*\u001b[39;49margs, \u001b[39m*\u001b[39;49m\u001b[39m*\u001b[39;49mkwargs)\n",
      "File \u001b[0;32m/usr/lib/python3.11/site-packages/pandas/util/_decorators.py:331\u001b[0m, in \u001b[0;36mdeprecate_nonkeyword_arguments.<locals>.decorate.<locals>.wrapper\u001b[0;34m(*args, **kwargs)\u001b[0m\n\u001b[1;32m    325\u001b[0m \u001b[39mif\u001b[39;00m \u001b[39mlen\u001b[39m(args) \u001b[39m>\u001b[39m num_allow_args:\n\u001b[1;32m    326\u001b[0m     warnings\u001b[39m.\u001b[39mwarn(\n\u001b[1;32m    327\u001b[0m         msg\u001b[39m.\u001b[39mformat(arguments\u001b[39m=\u001b[39m_format_argument_list(allow_args)),\n\u001b[1;32m    328\u001b[0m         \u001b[39mFutureWarning\u001b[39;00m,\n\u001b[1;32m    329\u001b[0m         stacklevel\u001b[39m=\u001b[39mfind_stack_level(),\n\u001b[1;32m    330\u001b[0m     )\n\u001b[0;32m--> 331\u001b[0m \u001b[39mreturn\u001b[39;00m func(\u001b[39m*\u001b[39;49margs, \u001b[39m*\u001b[39;49m\u001b[39m*\u001b[39;49mkwargs)\n",
      "File \u001b[0;32m/usr/lib/python3.11/site-packages/pandas/io/parsers/readers.py:950\u001b[0m, in \u001b[0;36mread_csv\u001b[0;34m(filepath_or_buffer, sep, delimiter, header, names, index_col, usecols, squeeze, prefix, mangle_dupe_cols, dtype, engine, converters, true_values, false_values, skipinitialspace, skiprows, skipfooter, nrows, na_values, keep_default_na, na_filter, verbose, skip_blank_lines, parse_dates, infer_datetime_format, keep_date_col, date_parser, dayfirst, cache_dates, iterator, chunksize, compression, thousands, decimal, lineterminator, quotechar, quoting, doublequote, escapechar, comment, encoding, encoding_errors, dialect, error_bad_lines, warn_bad_lines, on_bad_lines, delim_whitespace, low_memory, memory_map, float_precision, storage_options)\u001b[0m\n\u001b[1;32m    935\u001b[0m kwds_defaults \u001b[39m=\u001b[39m _refine_defaults_read(\n\u001b[1;32m    936\u001b[0m     dialect,\n\u001b[1;32m    937\u001b[0m     delimiter,\n\u001b[0;32m   (...)\u001b[0m\n\u001b[1;32m    946\u001b[0m     defaults\u001b[39m=\u001b[39m{\u001b[39m\"\u001b[39m\u001b[39mdelimiter\u001b[39m\u001b[39m\"\u001b[39m: \u001b[39m\"\u001b[39m\u001b[39m,\u001b[39m\u001b[39m\"\u001b[39m},\n\u001b[1;32m    947\u001b[0m )\n\u001b[1;32m    948\u001b[0m kwds\u001b[39m.\u001b[39mupdate(kwds_defaults)\n\u001b[0;32m--> 950\u001b[0m \u001b[39mreturn\u001b[39;00m _read(filepath_or_buffer, kwds)\n",
      "File \u001b[0;32m/usr/lib/python3.11/site-packages/pandas/io/parsers/readers.py:605\u001b[0m, in \u001b[0;36m_read\u001b[0;34m(filepath_or_buffer, kwds)\u001b[0m\n\u001b[1;32m    602\u001b[0m _validate_names(kwds\u001b[39m.\u001b[39mget(\u001b[39m\"\u001b[39m\u001b[39mnames\u001b[39m\u001b[39m\"\u001b[39m, \u001b[39mNone\u001b[39;00m))\n\u001b[1;32m    604\u001b[0m \u001b[39m# Create the parser.\u001b[39;00m\n\u001b[0;32m--> 605\u001b[0m parser \u001b[39m=\u001b[39m TextFileReader(filepath_or_buffer, \u001b[39m*\u001b[39;49m\u001b[39m*\u001b[39;49mkwds)\n\u001b[1;32m    607\u001b[0m \u001b[39mif\u001b[39;00m chunksize \u001b[39mor\u001b[39;00m iterator:\n\u001b[1;32m    608\u001b[0m     \u001b[39mreturn\u001b[39;00m parser\n",
      "File \u001b[0;32m/usr/lib/python3.11/site-packages/pandas/io/parsers/readers.py:1442\u001b[0m, in \u001b[0;36mTextFileReader.__init__\u001b[0;34m(self, f, engine, **kwds)\u001b[0m\n\u001b[1;32m   1439\u001b[0m     \u001b[39mself\u001b[39m\u001b[39m.\u001b[39moptions[\u001b[39m\"\u001b[39m\u001b[39mhas_index_names\u001b[39m\u001b[39m\"\u001b[39m] \u001b[39m=\u001b[39m kwds[\u001b[39m\"\u001b[39m\u001b[39mhas_index_names\u001b[39m\u001b[39m\"\u001b[39m]\n\u001b[1;32m   1441\u001b[0m \u001b[39mself\u001b[39m\u001b[39m.\u001b[39mhandles: IOHandles \u001b[39m|\u001b[39m \u001b[39mNone\u001b[39;00m \u001b[39m=\u001b[39m \u001b[39mNone\u001b[39;00m\n\u001b[0;32m-> 1442\u001b[0m \u001b[39mself\u001b[39m\u001b[39m.\u001b[39m_engine \u001b[39m=\u001b[39m \u001b[39mself\u001b[39;49m\u001b[39m.\u001b[39;49m_make_engine(f, \u001b[39mself\u001b[39;49m\u001b[39m.\u001b[39;49mengine)\n",
      "File \u001b[0;32m/usr/lib/python3.11/site-packages/pandas/io/parsers/readers.py:1735\u001b[0m, in \u001b[0;36mTextFileReader._make_engine\u001b[0;34m(self, f, engine)\u001b[0m\n\u001b[1;32m   1733\u001b[0m     \u001b[39mif\u001b[39;00m \u001b[39m\"\u001b[39m\u001b[39mb\u001b[39m\u001b[39m\"\u001b[39m \u001b[39mnot\u001b[39;00m \u001b[39min\u001b[39;00m mode:\n\u001b[1;32m   1734\u001b[0m         mode \u001b[39m+\u001b[39m\u001b[39m=\u001b[39m \u001b[39m\"\u001b[39m\u001b[39mb\u001b[39m\u001b[39m\"\u001b[39m\n\u001b[0;32m-> 1735\u001b[0m \u001b[39mself\u001b[39m\u001b[39m.\u001b[39mhandles \u001b[39m=\u001b[39m get_handle(\n\u001b[1;32m   1736\u001b[0m     f,\n\u001b[1;32m   1737\u001b[0m     mode,\n\u001b[1;32m   1738\u001b[0m     encoding\u001b[39m=\u001b[39;49m\u001b[39mself\u001b[39;49m\u001b[39m.\u001b[39;49moptions\u001b[39m.\u001b[39;49mget(\u001b[39m\"\u001b[39;49m\u001b[39mencoding\u001b[39;49m\u001b[39m\"\u001b[39;49m, \u001b[39mNone\u001b[39;49;00m),\n\u001b[1;32m   1739\u001b[0m     compression\u001b[39m=\u001b[39;49m\u001b[39mself\u001b[39;49m\u001b[39m.\u001b[39;49moptions\u001b[39m.\u001b[39;49mget(\u001b[39m\"\u001b[39;49m\u001b[39mcompression\u001b[39;49m\u001b[39m\"\u001b[39;49m, \u001b[39mNone\u001b[39;49;00m),\n\u001b[1;32m   1740\u001b[0m     memory_map\u001b[39m=\u001b[39;49m\u001b[39mself\u001b[39;49m\u001b[39m.\u001b[39;49moptions\u001b[39m.\u001b[39;49mget(\u001b[39m\"\u001b[39;49m\u001b[39mmemory_map\u001b[39;49m\u001b[39m\"\u001b[39;49m, \u001b[39mFalse\u001b[39;49;00m),\n\u001b[1;32m   1741\u001b[0m     is_text\u001b[39m=\u001b[39;49mis_text,\n\u001b[1;32m   1742\u001b[0m     errors\u001b[39m=\u001b[39;49m\u001b[39mself\u001b[39;49m\u001b[39m.\u001b[39;49moptions\u001b[39m.\u001b[39;49mget(\u001b[39m\"\u001b[39;49m\u001b[39mencoding_errors\u001b[39;49m\u001b[39m\"\u001b[39;49m, \u001b[39m\"\u001b[39;49m\u001b[39mstrict\u001b[39;49m\u001b[39m\"\u001b[39;49m),\n\u001b[1;32m   1743\u001b[0m     storage_options\u001b[39m=\u001b[39;49m\u001b[39mself\u001b[39;49m\u001b[39m.\u001b[39;49moptions\u001b[39m.\u001b[39;49mget(\u001b[39m\"\u001b[39;49m\u001b[39mstorage_options\u001b[39;49m\u001b[39m\"\u001b[39;49m, \u001b[39mNone\u001b[39;49;00m),\n\u001b[1;32m   1744\u001b[0m )\n\u001b[1;32m   1745\u001b[0m \u001b[39massert\u001b[39;00m \u001b[39mself\u001b[39m\u001b[39m.\u001b[39mhandles \u001b[39mis\u001b[39;00m \u001b[39mnot\u001b[39;00m \u001b[39mNone\u001b[39;00m\n\u001b[1;32m   1746\u001b[0m f \u001b[39m=\u001b[39m \u001b[39mself\u001b[39m\u001b[39m.\u001b[39mhandles\u001b[39m.\u001b[39mhandle\n",
      "File \u001b[0;32m/usr/lib/python3.11/site-packages/pandas/io/common.py:856\u001b[0m, in \u001b[0;36mget_handle\u001b[0;34m(path_or_buf, mode, encoding, compression, memory_map, is_text, errors, storage_options)\u001b[0m\n\u001b[1;32m    851\u001b[0m \u001b[39melif\u001b[39;00m \u001b[39misinstance\u001b[39m(handle, \u001b[39mstr\u001b[39m):\n\u001b[1;32m    852\u001b[0m     \u001b[39m# Check whether the filename is to be opened in binary mode.\u001b[39;00m\n\u001b[1;32m    853\u001b[0m     \u001b[39m# Binary mode does not support 'encoding' and 'newline'.\u001b[39;00m\n\u001b[1;32m    854\u001b[0m     \u001b[39mif\u001b[39;00m ioargs\u001b[39m.\u001b[39mencoding \u001b[39mand\u001b[39;00m \u001b[39m\"\u001b[39m\u001b[39mb\u001b[39m\u001b[39m\"\u001b[39m \u001b[39mnot\u001b[39;00m \u001b[39min\u001b[39;00m ioargs\u001b[39m.\u001b[39mmode:\n\u001b[1;32m    855\u001b[0m         \u001b[39m# Encoding\u001b[39;00m\n\u001b[0;32m--> 856\u001b[0m         handle \u001b[39m=\u001b[39m \u001b[39mopen\u001b[39m(\n\u001b[1;32m    857\u001b[0m             handle,\n\u001b[1;32m    858\u001b[0m             ioargs\u001b[39m.\u001b[39mmode,\n\u001b[1;32m    859\u001b[0m             encoding\u001b[39m=\u001b[39mioargs\u001b[39m.\u001b[39mencoding,\n\u001b[1;32m    860\u001b[0m             errors\u001b[39m=\u001b[39merrors,\n\u001b[1;32m    861\u001b[0m             newline\u001b[39m=\u001b[39m\u001b[39m\"\u001b[39m\u001b[39m\"\u001b[39m,\n\u001b[1;32m    862\u001b[0m         )\n\u001b[1;32m    863\u001b[0m     \u001b[39melse\u001b[39;00m:\n\u001b[1;32m    864\u001b[0m         \u001b[39m# Binary mode\u001b[39;00m\n\u001b[1;32m    865\u001b[0m         handle \u001b[39m=\u001b[39m \u001b[39mopen\u001b[39m(handle, ioargs\u001b[39m.\u001b[39mmode)\n",
      "\u001b[0;31mFileNotFoundError\u001b[0m: [Errno 2] No such file or directory: '../data/predicted_M1.csv'"
     ]
    }
   ],
   "source": [
    "for oblast in sorted(set(oblasti_mapping.values())):\n",
    "    print(oblast)\n",
    "    predicted = pd.read_csv(f'../data/predicted_{oblast}.csv')\n",
    "    display(predicted)\n",
    "    # pracoviska_excelentnost.loc[[oblast], 'publikacne_predicted'] = predicted"
   ]
  },
  {
   "cell_type": "code",
   "execution_count": null,
   "metadata": {},
   "outputs": [],
   "source": [
    "\n",
    "import scipy.stats as stats\n",
    "\n",
    "rezid_data = []\n",
    "for oblast in sorted(set(oblasti_mapping.values())):\n",
    "    print(oblast)\n",
    "    data = pd.read_csv(f'../data/data_to_model_{oblast}_rezid.csv')\n",
    "    # display(data)\n",
    "    data['oblast'] = oblast\n",
    "    # display(data)\n",
    "    data = data.set_index(['oblast', 'VS_NAZOV', 'FAKULTA_NAZOV'])\n",
    "    # display(data)\n",
    "    if ( rezid_data is None ):\n",
    "        rezid_data = data\n",
    "    else:\n",
    "        rezid_data.append(data)\n",
    "\n",
    "rezid_data = pd.concat(rezid_data)\n",
    "rezid_data['publ_z_score'] = stats.zscore(rezid_data['rezidua_publ'])\n",
    "rezid_data['grant_z_score'] = stats.zscore(rezid_data['rezidua_granty'])\n",
    "\n",
    "rezid_data\n"
   ]
  },
  {
   "cell_type": "code",
   "execution_count": null,
   "metadata": {},
   "outputs": [],
   "source": []
  },
  {
   "attachments": {},
   "cell_type": "markdown",
   "metadata": {},
   "source": [
    "## TODO\n",
    "\n",
    "- [-] publikacie M6b Zxx\n",
    "- [x] extrahovat pocty zamestnancov na pracoviskach\n",
    "- [x] vypisat pracoviska v oblastiach ktore maju aspon 5 zamestancov\n",
    "- [x] namapovat nazvy skol v grantoch na publikacie\n",
    "- [-] porovnat publikacnu excelentnost s referencnymi datami\n",
    "- [x] publikacie ceil(val * 2)\n",
    "- [x] vyhodnotit regresne modely\n",
    "- [x] vypocitat rezidua\n",
    "- [ ] standardizovat rezidua do z-skore\n",
    "- [ ] prevahovat z-skore\n",
    "- [ ] urcit horny kvartil z kazdej oblasti\n",
    "- [ ] porovnat vypocitane z-skore s referencnymi vysledkami\n",
    "- [ ] odhadnut vyhru\n",
    "- [ ] spriemerovat s minulorocnou vyhrou\n",
    "- [ ] preskalovat priemernu vyhru\n",
    "- [ ] overit AAx duplicitu medzi roznymi pracoviskami\n",
    "- [ ] overit ci nieje jedna publikacia viackrat v jednej obalasti\n",
    "- [ ] ...\n",
    "- [ ] vygenerovat nechutnu tabulku"
   ]
  },
  {
   "cell_type": "code",
   "execution_count": null,
   "metadata": {},
   "outputs": [],
   "source": [
    "\n"
   ]
  }
 ],
 "metadata": {
  "kernelspec": {
   "display_name": "Python 3",
   "language": "python",
   "name": "python3"
  },
  "language_info": {
   "codemirror_mode": {
    "name": "ipython",
    "version": 3
   },
   "file_extension": ".py",
   "mimetype": "text/x-python",
   "name": "python",
   "nbconvert_exporter": "python",
   "pygments_lexer": "ipython3",
   "version": "3.8.10"
  },
  "orig_nbformat": 4
 },
 "nbformat": 4,
 "nbformat_minor": 2
}
